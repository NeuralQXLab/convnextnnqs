{
 "cells": [
  {
   "cell_type": "code",
   "execution_count": 1,
   "metadata": {},
   "outputs": [
    {
     "name": "stderr",
     "output_type": "stream",
     "text": [
      "/Users/rajah.nutakki/repos/convnext_nnqs/.venv/lib/python3.12/site-packages/tqdm/auto.py:21: TqdmWarning: IProgress not found. Please update jupyter and ipywidgets. See https://ipywidgets.readthedocs.io/en/stable/user_install.html\n",
      "  from .autonotebook import tqdm as notebook_tqdm\n"
     ]
    }
   ],
   "source": [
    "import netket as nk\n",
    "from deepnets.net import ConvNext\n",
    "from deepnets.system import Shastry_Sutherland\n",
    "from deepnets.optimization.protocols import Protocol\n",
    "import deepnets.optimization.save_load as save_load\n",
    "import argparse\n",
    "import numpy as np\n",
    "import optax\n",
    "import jax\n",
    "import json\n",
    "import jax.numpy as jnp"
   ]
  },
  {
   "cell_type": "code",
   "execution_count": 2,
   "metadata": {},
   "outputs": [
    {
     "name": "stdout",
     "output_type": "stream",
     "text": [
      "Using net_type=Vanilla\n",
      "Maximum no. of parameters = 1248, total number of samples = 128\n",
      "Using minSR = True\n",
      "Running optimization...\n",
      "Symmetry stage 0/0 on process 0:\n",
      "Running optimization...\n"
     ]
    },
    {
     "name": "stderr",
     "output_type": "stream",
     "text": [
      "100%|██████████| 10/10 [00:02<00:00,  4.28it/s, Energy=6.0+0.7j ± 1.8 [σ²=393.3, R̂=1.0728]]\n"
     ]
    },
    {
     "name": "stdout",
     "output_type": "stream",
     "text": [
      "Optimization time = 4s\n",
      "Finished optimization\n",
      "Performing 10 additional optimization steps...\n",
      "Sampling parameters:\n",
      "n_chains = 32\n",
      "n_samples = 128\n",
      "n_discard_per_chain = 4\n"
     ]
    },
    {
     "name": "stderr",
     "output_type": "stream",
     "text": [
      "  0%|          | 0/10 [00:00<?, ?it/s, Energy=7.4-0.4j ± 1.7 [σ²=509.3, R̂=1.1143]]"
     ]
    },
    {
     "name": "stdout",
     "output_type": "stream",
     "text": [
      "Saving vstate to /Users/Rajah.Nutakki/Desktop/work_dummy/test//post/vstate0.nk\n",
      "Package 'deepnets' is not installed, so you may not be able to reload this.\n",
      "Package 'builtins' is not installed, so you may not be able to reload this.\n"
     ]
    },
    {
     "name": "stderr",
     "output_type": "stream",
     "text": [
      " 10%|█         | 1/10 [00:00<00:02,  3.11it/s, Energy=6.3-0.3j ± 1.8 [σ²=472.9, R̂=1.1199]]"
     ]
    },
    {
     "name": "stdout",
     "output_type": "stream",
     "text": [
      "Saving vstate to /Users/Rajah.Nutakki/Desktop/work_dummy/test//post/vstate1.nk\n"
     ]
    },
    {
     "name": "stderr",
     "output_type": "stream",
     "text": [
      " 20%|██        | 2/10 [00:00<00:02,  3.31it/s, Energy=5.3+0.6j ± 1.7 [σ²=295.8, R̂=1.1445]]"
     ]
    },
    {
     "name": "stdout",
     "output_type": "stream",
     "text": [
      "Saving vstate to /Users/Rajah.Nutakki/Desktop/work_dummy/test//post/vstate2.nk\n"
     ]
    },
    {
     "name": "stderr",
     "output_type": "stream",
     "text": [
      " 30%|███       | 3/10 [00:00<00:02,  3.43it/s, Energy=4.4-0.5j ± 1.9 [σ²=408.6, R̂=1.1319]]"
     ]
    },
    {
     "name": "stdout",
     "output_type": "stream",
     "text": [
      "Saving vstate to /Users/Rajah.Nutakki/Desktop/work_dummy/test//post/vstate3.nk\n"
     ]
    },
    {
     "name": "stderr",
     "output_type": "stream",
     "text": [
      " 40%|████      | 4/10 [00:01<00:01,  3.41it/s, Energy=6.2-0.2j ± 1.5 [σ²=282.0, R̂=1.1572]]"
     ]
    },
    {
     "name": "stdout",
     "output_type": "stream",
     "text": [
      "Saving vstate to /Users/Rajah.Nutakki/Desktop/work_dummy/test//post/vstate4.nk\n"
     ]
    },
    {
     "name": "stderr",
     "output_type": "stream",
     "text": [
      " 50%|█████     | 5/10 [00:01<00:01,  3.48it/s, Energy=2.6+1.1j ± 1.7 [σ²=307.8, R̂=1.1269]]"
     ]
    },
    {
     "name": "stdout",
     "output_type": "stream",
     "text": [
      "Saving vstate to /Users/Rajah.Nutakki/Desktop/work_dummy/test//post/vstate5.nk\n"
     ]
    },
    {
     "name": "stderr",
     "output_type": "stream",
     "text": [
      " 60%|██████    | 6/10 [00:01<00:01,  3.49it/s, Energy=4.7+0.1j ± 1.3 [σ²=212.3, R̂=1.1171]]"
     ]
    },
    {
     "name": "stdout",
     "output_type": "stream",
     "text": [
      "Saving vstate to /Users/Rajah.Nutakki/Desktop/work_dummy/test//post/vstate6.nk\n"
     ]
    },
    {
     "name": "stderr",
     "output_type": "stream",
     "text": [
      " 70%|███████   | 7/10 [00:02<00:00,  3.41it/s, Energy=4.4-0.8j ± 1.4 [σ²=211.7, R̂=1.1257]]"
     ]
    },
    {
     "name": "stdout",
     "output_type": "stream",
     "text": [
      "Saving vstate to /Users/Rajah.Nutakki/Desktop/work_dummy/test//post/vstate7.nk\n"
     ]
    },
    {
     "name": "stderr",
     "output_type": "stream",
     "text": [
      " 80%|████████  | 8/10 [00:02<00:00,  3.37it/s, Energy=3.6-0.7j ± 1.5 [σ²=299.3, R̂=1.1278]]"
     ]
    },
    {
     "name": "stdout",
     "output_type": "stream",
     "text": [
      "Saving vstate to /Users/Rajah.Nutakki/Desktop/work_dummy/test//post/vstate8.nk\n"
     ]
    },
    {
     "name": "stderr",
     "output_type": "stream",
     "text": [
      "100%|██████████| 10/10 [00:02<00:00,  3.78it/s, Energy=3.6+1.5j ± 1.7 [σ²=274.8, R̂=1.1470]]"
     ]
    },
    {
     "name": "stdout",
     "output_type": "stream",
     "text": [
      "Saving vstate to /Users/Rajah.Nutakki/Desktop/work_dummy/test//post/vstate9.nk\n",
      "Final 10 energies = [7.41648961 6.28924719 5.26867514 4.40320322 6.18416811 2.5701947\n",
      " 4.65879181 4.40362613 3.63459033 3.64559852]\n",
      "min_index=5\n",
      "Finished additional optimization steps\n",
      "Post-processing time = 4s\n"
     ]
    },
    {
     "name": "stderr",
     "output_type": "stream",
     "text": [
      "\n"
     ]
    },
    {
     "data": {
      "text/plain": [
       "(3.5574519634246826, 1248)"
      ]
     },
     "execution_count": 2,
     "metadata": {},
     "output_type": "execute_result"
    }
   ],
   "source": [
    "#Parameters\n",
    "#Model parameters\n",
    "L = 6\n",
    "J = [0.8,1.0]\n",
    "system = Shastry_Sutherland(L=L, J = J)\n",
    "#sign_rule = [False]\n",
    "#Network parameters\n",
    "#ConvNext\n",
    "n_blocks = (1,)\n",
    "features = (12,)\n",
    "expansion_factor = 2\n",
    "downsample_factor = 2 #linear_patch_size \n",
    "kernel_width=3\n",
    "net_type=\"Vanilla\"\n",
    "final_features = features[0]\n",
    "output_depth = 1\n",
    "\n",
    "network = ConvNext(n_blocks = n_blocks,\n",
    "                   features = features,\n",
    "                   expansion_factor = expansion_factor,\n",
    "                   net_type = net_type,\n",
    "                   kernel_width = kernel_width,\n",
    "                   downsample_factor = downsample_factor,\n",
    "                   final_features = final_features,\n",
    "                   init_kernel_width = 1,\n",
    "                   output_depth = output_depth,\n",
    "                   system = system)\n",
    "args = {\"lr\": 1e-3,\n",
    "        \"lr_factor\":0.5,\n",
    "        \"iters\":[10],\n",
    "        \"alpha\":1,\n",
    "        \"samples_per_rank\": 128,\n",
    "        \"n_chains_per_rank\": 16,\n",
    "        \"diag_shift\":1e-6,\n",
    "        \"diag_shift_factor\":1,\n",
    "        \"r\": 1e-6,\n",
    "        \"symmetries\": 0,\n",
    "        \"seed\": 5,\n",
    "        \"discard_fraction\":0,\n",
    "        \"save_every\":50,\n",
    "        \"show_progress\": True,\n",
    "        \"time_it\": False,\n",
    "        \"save_base\":\"/Users/Rajah.Nutakki/Desktop/work_dummy/test/\",\n",
    "        \"post_iters\": 10,\n",
    "        \"chunk_size\": 128,\n",
    "        \"momentum\":0.9,\n",
    "        \"sweep_factor\":1,\n",
    "        \"symmetry_ramping\": 0 \n",
    "}\n",
    "opt = Protocol(system,network,args,compile_step=False)\n",
    "opt.run()"
   ]
  }
 ],
 "metadata": {
  "kernelspec": {
   "display_name": "netket_pro_local",
   "language": "python",
   "name": "python3"
  },
  "language_info": {
   "codemirror_mode": {
    "name": "ipython",
    "version": 3
   },
   "file_extension": ".py",
   "mimetype": "text/x-python",
   "name": "python",
   "nbconvert_exporter": "python",
   "pygments_lexer": "ipython3",
   "version": "3.12.8"
  }
 },
 "nbformat": 4,
 "nbformat_minor": 2
}
