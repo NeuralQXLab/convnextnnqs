{
 "cells": [
  {
   "cell_type": "code",
   "execution_count": 1,
   "metadata": {},
   "outputs": [
    {
     "name": "stderr",
     "output_type": "stream",
     "text": [
      "/Users/rajah.nutakki/uv_envs/nk_pro/.venv/lib/python3.12/site-packages/tqdm/auto.py:21: TqdmWarning: IProgress not found. Please update jupyter and ipywidgets. See https://ipywidgets.readthedocs.io/en/stable/user_install.html\n",
      "  from .autonotebook import tqdm as notebook_tqdm\n"
     ]
    }
   ],
   "source": [
    "import netket as nk\n",
    "import numpy as np\n",
    "from deepnets.net import ConvNext\n",
    "from deepnets.system import Shastry_Sutherland\n",
    "from deepnets.optimization.protocols import Protocol\n",
    "import jax\n",
    "import flax"
   ]
  },
  {
   "cell_type": "code",
   "execution_count": 18,
   "metadata": {},
   "outputs": [
    {
     "name": "stdout",
     "output_type": "stream",
     "text": [
      "Using net_type=Vanilla\n"
     ]
    }
   ],
   "source": [
    "#System\n",
    "L = 6\n",
    "J = [0.8,1.0]\n",
    "system = Shastry_Sutherland(L = L, J = J)\n",
    "#ConvNext\n",
    "n_blocks = (2,)\n",
    "features = (12,)\n",
    "expansion_factor = 2\n",
    "net_type = \"Vanilla\"\n",
    "kernel_width = 3\n",
    "downsample_factor = 2 #linear_patch_size \n",
    "final_features = 24\n",
    "init_kernel_width = 1\n",
    "output_depth = 2\n",
    "network = ConvNext(n_blocks, features, expansion_factor, net_type, kernel_width,downsample_factor,final_features, init_kernel_width, system, output_depth)"
   ]
  },
  {
   "cell_type": "code",
   "execution_count": 19,
   "metadata": {},
   "outputs": [
    {
     "name": "stdout",
     "output_type": "stream",
     "text": [
      "Maximum no. of parameters = 3708, total number of samples = 100\n",
      "Using minSR = True\n"
     ]
    }
   ],
   "source": [
    "args = {\n",
    "    \"samples_per_rank\": 100,\n",
    "    \"n_chains_per_rank\": 16,\n",
    "    \"discard_fraction\": 0,\n",
    "    \"iters\": 10,\n",
    "    \"lr\": 5e-3,\n",
    "    \"lr_factor\": 1,\n",
    "    \"diag_shift\": 1e-2,\n",
    "    \"diag_shift_factor\": 1,\n",
    "    \"r\": 1e-6,\n",
    "    \"save_base\": \"\",\n",
    "    \"save_num\": 0,\n",
    "    \"seed\": 5,\n",
    "    \"time_it\": 0,\n",
    "    \"show_progress\": 1,\n",
    "    \"chunk_size\": 0,\n",
    "    \"save_every\":10,\n",
    "    \"symmetries\": 0,\n",
    "    \"symmetry_ramping\":0,\n",
    "    \"momentum\": 0.9,\n",
    "    \"checkpoint\": 0,\n",
    "    \"post_iters\": 5,\n",
    "    \"sweep_factor\":1\n",
    "}\n",
    "opt = Protocol(system,network,args,log_mode=\"write\")"
   ]
  },
  {
   "cell_type": "code",
   "execution_count": 20,
   "metadata": {},
   "outputs": [
    {
     "name": "stdout",
     "output_type": "stream",
     "text": [
      "Running optimization...\n",
      "Symmetry stage 0/0 on process 0:\n"
     ]
    },
    {
     "name": "stderr",
     "output_type": "stream",
     "text": [
      "/Users/rajah.nutakki/repos/netket_pro/.venv/lib/python3.12/site-packages/netket/vqs/mc/mc_state/state.py:394: UserWarning: n_samples=100 (100 per device/MPI rank) does not divide n_chains=16, increased to 112 (112 per device/MPI rank)\n",
      "  self.n_samples = n_samples_per_rank * sharding.device_count()\n"
     ]
    },
    {
     "name": "stdout",
     "output_type": "stream",
     "text": [
      "Compiling...\n"
     ]
    },
    {
     "name": "stderr",
     "output_type": "stream",
     "text": [
      "100%|██████████| 1/1 [00:00<00:00, 10.60it/s, Energy=24.8+1.2j ± 2.5 [σ²=708.7, R̂=1.1042]]\n"
     ]
    },
    {
     "name": "stdout",
     "output_type": "stream",
     "text": [
      "Compilation time = 3s\n",
      "Running optimization...\n"
     ]
    },
    {
     "name": "stderr",
     "output_type": "stream",
     "text": [
      "100%|██████████| 10/10 [00:03<00:00,  2.78it/s, Energy=-15.6+0.3j ± 1.6 [σ²=283.6, R̂=1.1056]]\n",
      "/Users/rajah.nutakki/repos/netket_pro/.venv/lib/python3.12/site-packages/netket/vqs/mc/mc_state/state.py:276: UserWarning: n_samples=112 (112 per device/MPI rank) does not divide n_chains=32, increased to 128 (128 per device/MPI rank)\n",
      "  self.n_samples = n_samples\n"
     ]
    },
    {
     "name": "stdout",
     "output_type": "stream",
     "text": [
      "Optimization time = 6s\n",
      "Finished optimization\n",
      "Performing 5 additional optimization steps...\n",
      "Sampling parameters:\n",
      "n_chains = 32\n",
      "n_samples = 128\n",
      "n_discard_per_chain = 3\n"
     ]
    },
    {
     "name": "stderr",
     "output_type": "stream",
     "text": [
      "  0%|          | 0/5 [00:00<?, ?it/s]"
     ]
    },
    {
     "name": "stdout",
     "output_type": "stream",
     "text": [
      "restoring checkpoint #5\n",
      "Error while restoring checkpoint:  Dict key mismatch; expected keys: ['norms_imag_0', 'norms_real_0', 'out_layer_norm', 'output_layers_imag_0', 'output_layers_real_0']; dict: {'norms_imag_0': {'bias': ArrayRestoreArgs(restore_type=<class 'jax.Array'>, dtype=dtype('float64'), mesh=None, mesh_axes=None, sharding=SingleDeviceSharding(device=CpuDevice(id=0), memory_kind=unpinned_host), global_shape=(24,), shape=(24,), strict=True), 'scale': ArrayRestoreArgs(restore_type=<class 'jax.Array'>, dtype=dtype('float64'), mesh=None, mesh_axes=None, sharding=SingleDeviceSharding(device=CpuDevice(id=0), memory_kind=unpinned_host), global_shape=(24,), shape=(24,), strict=True)}, 'norms_imag_1': {'bias': ArrayRestoreArgs(restore_type=<class 'jax.Array'>, dtype=dtype('float64'), mesh=None, mesh_axes=None, sharding=SingleDeviceSharding(device=CpuDevice(id=0), memory_kind=unpinned_host), global_shape=(24,), shape=(24,), strict=True), 'scale': ArrayRestoreArgs(restore_type=<class 'jax.Array'>, dtype=dtype('float64'), mesh=None, mesh_axes=None, sharding=SingleDeviceSharding(device=CpuDevice(id=0), memory_kind=unpinned_host), global_shape=(24,), shape=(24,), strict=True)}, 'norms_real_0': {'bias': ArrayRestoreArgs(restore_type=<class 'jax.Array'>, dtype=dtype('float64'), mesh=None, mesh_axes=None, sharding=SingleDeviceSharding(device=CpuDevice(id=0), memory_kind=unpinned_host), global_shape=(24,), shape=(24,), strict=True), 'scale': ArrayRestoreArgs(restore_type=<class 'jax.Array'>, dtype=dtype('float64'), mesh=None, mesh_axes=None, sharding=SingleDeviceSharding(device=CpuDevice(id=0), memory_kind=unpinned_host), global_shape=(24,), shape=(24,), strict=True)}, 'norms_real_1': {'bias': ArrayRestoreArgs(restore_type=<class 'jax.Array'>, dtype=dtype('float64'), mesh=None, mesh_axes=None, sharding=SingleDeviceSharding(device=CpuDevice(id=0), memory_kind=unpinned_host), global_shape=(24,), shape=(24,), strict=True), 'scale': ArrayRestoreArgs(restore_type=<class 'jax.Array'>, dtype=dtype('float64'), mesh=None, mesh_axes=None, sharding=SingleDeviceSharding(device=CpuDevice(id=0), memory_kind=unpinned_host), global_shape=(24,), shape=(24,), strict=True)}, 'out_layer_norm': {'bias': ArrayRestoreArgs(restore_type=<class 'jax.Array'>, dtype=dtype('float64'), mesh=None, mesh_axes=None, sharding=SingleDeviceSharding(device=CpuDevice(id=0), memory_kind=unpinned_host), global_shape=(12,), shape=(12,), strict=True), 'scale': ArrayRestoreArgs(restore_type=<class 'jax.Array'>, dtype=dtype('float64'), mesh=None, mesh_axes=None, sharding=SingleDeviceSharding(device=CpuDevice(id=0), memory_kind=unpinned_host), global_shape=(12,), shape=(12,), strict=True)}, 'output_layers_imag_0': {'bias': ArrayRestoreArgs(restore_type=<class 'jax.Array'>, dtype=dtype('float64'), mesh=None, mesh_axes=None, sharding=SingleDeviceSharding(device=CpuDevice(id=0), memory_kind=unpinned_host), global_shape=(24,), shape=(24,), strict=True), 'kernel': ArrayRestoreArgs(restore_type=<class 'jax.Array'>, dtype=dtype('float64'), mesh=None, mesh_axes=None, sharding=SingleDeviceSharding(device=CpuDevice(id=0), memory_kind=unpinned_host), global_shape=(12, 24), shape=(12, 24), strict=True)}, 'output_layers_imag_1': {'bias': ArrayRestoreArgs(restore_type=<class 'jax.Array'>, dtype=dtype('float64'), mesh=None, mesh_axes=None, sharding=SingleDeviceSharding(device=CpuDevice(id=0), memory_kind=unpinned_host), global_shape=(24,), shape=(24,), strict=True), 'kernel': ArrayRestoreArgs(restore_type=<class 'jax.Array'>, dtype=dtype('float64'), mesh=None, mesh_axes=None, sharding=SingleDeviceSharding(device=CpuDevice(id=0), memory_kind=unpinned_host), global_shape=(24, 24), shape=(24, 24), strict=True)}, 'output_layers_real_0': {'bias': ArrayRestoreArgs(restore_type=<class 'jax.Array'>, dtype=dtype('float64'), mesh=None, mesh_axes=None, sharding=SingleDeviceSharding(device=CpuDevice(id=0), memory_kind=unpinned_host), global_shape=(24,), shape=(24,), strict=True), 'kernel': ArrayRestoreArgs(restore_type=<class 'jax.Array'>, dtype=dtype('float64'), mesh=None, mesh_axes=None, sharding=SingleDeviceSharding(device=CpuDevice(id=0), memory_kind=unpinned_host), global_shape=(12, 24), shape=(12, 24), strict=True)}, 'output_layers_real_1': {'bias': ArrayRestoreArgs(restore_type=<class 'jax.Array'>, dtype=dtype('float64'), mesh=None, mesh_axes=None, sharding=SingleDeviceSharding(device=CpuDevice(id=0), memory_kind=unpinned_host), global_shape=(24,), shape=(24,), strict=True), 'kernel': ArrayRestoreArgs(restore_type=<class 'jax.Array'>, dtype=dtype('float64'), mesh=None, mesh_axes=None, sharding=SingleDeviceSharding(device=CpuDevice(id=0), memory_kind=unpinned_host), global_shape=(24, 24), shape=(24, 24), strict=True)}}.\n",
      "============================================\n",
      "raising Error on 0\n",
      "Error while restoring checkpoint. There might be a mismatch \n",
      "between run files, system sizes or other things.\n",
      "\n",
      "\n",
      "The original exception error is reported below.\n",
      "\n",
      "\n",
      "============================================\n",
      "The error above is printed only from rank 0 and is umangled.\n",
      "Below there is mangled output from non rank 0s\n",
      "============================================\n",
      "\n",
      "\n"
     ]
    },
    {
     "name": "stderr",
     "output_type": "stream",
     "text": [
      "  0%|          | 0/5 [00:03<?, ?it/s]\n"
     ]
    },
    {
     "ename": "ValueError",
     "evalue": "Dict key mismatch; expected keys: ['norms_imag_0', 'norms_real_0', 'out_layer_norm', 'output_layers_imag_0', 'output_layers_real_0']; dict: {'norms_imag_0': {'bias': ArrayRestoreArgs(restore_type=<class 'jax.Array'>, dtype=dtype('float64'), mesh=None, mesh_axes=None, sharding=SingleDeviceSharding(device=CpuDevice(id=0), memory_kind=unpinned_host), global_shape=(24,), shape=(24,), strict=True), 'scale': ArrayRestoreArgs(restore_type=<class 'jax.Array'>, dtype=dtype('float64'), mesh=None, mesh_axes=None, sharding=SingleDeviceSharding(device=CpuDevice(id=0), memory_kind=unpinned_host), global_shape=(24,), shape=(24,), strict=True)}, 'norms_imag_1': {'bias': ArrayRestoreArgs(restore_type=<class 'jax.Array'>, dtype=dtype('float64'), mesh=None, mesh_axes=None, sharding=SingleDeviceSharding(device=CpuDevice(id=0), memory_kind=unpinned_host), global_shape=(24,), shape=(24,), strict=True), 'scale': ArrayRestoreArgs(restore_type=<class 'jax.Array'>, dtype=dtype('float64'), mesh=None, mesh_axes=None, sharding=SingleDeviceSharding(device=CpuDevice(id=0), memory_kind=unpinned_host), global_shape=(24,), shape=(24,), strict=True)}, 'norms_real_0': {'bias': ArrayRestoreArgs(restore_type=<class 'jax.Array'>, dtype=dtype('float64'), mesh=None, mesh_axes=None, sharding=SingleDeviceSharding(device=CpuDevice(id=0), memory_kind=unpinned_host), global_shape=(24,), shape=(24,), strict=True), 'scale': ArrayRestoreArgs(restore_type=<class 'jax.Array'>, dtype=dtype('float64'), mesh=None, mesh_axes=None, sharding=SingleDeviceSharding(device=CpuDevice(id=0), memory_kind=unpinned_host), global_shape=(24,), shape=(24,), strict=True)}, 'norms_real_1': {'bias': ArrayRestoreArgs(restore_type=<class 'jax.Array'>, dtype=dtype('float64'), mesh=None, mesh_axes=None, sharding=SingleDeviceSharding(device=CpuDevice(id=0), memory_kind=unpinned_host), global_shape=(24,), shape=(24,), strict=True), 'scale': ArrayRestoreArgs(restore_type=<class 'jax.Array'>, dtype=dtype('float64'), mesh=None, mesh_axes=None, sharding=SingleDeviceSharding(device=CpuDevice(id=0), memory_kind=unpinned_host), global_shape=(24,), shape=(24,), strict=True)}, 'out_layer_norm': {'bias': ArrayRestoreArgs(restore_type=<class 'jax.Array'>, dtype=dtype('float64'), mesh=None, mesh_axes=None, sharding=SingleDeviceSharding(device=CpuDevice(id=0), memory_kind=unpinned_host), global_shape=(12,), shape=(12,), strict=True), 'scale': ArrayRestoreArgs(restore_type=<class 'jax.Array'>, dtype=dtype('float64'), mesh=None, mesh_axes=None, sharding=SingleDeviceSharding(device=CpuDevice(id=0), memory_kind=unpinned_host), global_shape=(12,), shape=(12,), strict=True)}, 'output_layers_imag_0': {'bias': ArrayRestoreArgs(restore_type=<class 'jax.Array'>, dtype=dtype('float64'), mesh=None, mesh_axes=None, sharding=SingleDeviceSharding(device=CpuDevice(id=0), memory_kind=unpinned_host), global_shape=(24,), shape=(24,), strict=True), 'kernel': ArrayRestoreArgs(restore_type=<class 'jax.Array'>, dtype=dtype('float64'), mesh=None, mesh_axes=None, sharding=SingleDeviceSharding(device=CpuDevice(id=0), memory_kind=unpinned_host), global_shape=(12, 24), shape=(12, 24), strict=True)}, 'output_layers_imag_1': {'bias': ArrayRestoreArgs(restore_type=<class 'jax.Array'>, dtype=dtype('float64'), mesh=None, mesh_axes=None, sharding=SingleDeviceSharding(device=CpuDevice(id=0), memory_kind=unpinned_host), global_shape=(24,), shape=(24,), strict=True), 'kernel': ArrayRestoreArgs(restore_type=<class 'jax.Array'>, dtype=dtype('float64'), mesh=None, mesh_axes=None, sharding=SingleDeviceSharding(device=CpuDevice(id=0), memory_kind=unpinned_host), global_shape=(24, 24), shape=(24, 24), strict=True)}, 'output_layers_real_0': {'bias': ArrayRestoreArgs(restore_type=<class 'jax.Array'>, dtype=dtype('float64'), mesh=None, mesh_axes=None, sharding=SingleDeviceSharding(device=CpuDevice(id=0), memory_kind=unpinned_host), global_shape=(24,), shape=(24,), strict=True), 'kernel': ArrayRestoreArgs(restore_type=<class 'jax.Array'>, dtype=dtype('float64'), mesh=None, mesh_axes=None, sharding=SingleDeviceSharding(device=CpuDevice(id=0), memory_kind=unpinned_host), global_shape=(12, 24), shape=(12, 24), strict=True)}, 'output_layers_real_1': {'bias': ArrayRestoreArgs(restore_type=<class 'jax.Array'>, dtype=dtype('float64'), mesh=None, mesh_axes=None, sharding=SingleDeviceSharding(device=CpuDevice(id=0), memory_kind=unpinned_host), global_shape=(24,), shape=(24,), strict=True), 'kernel': ArrayRestoreArgs(restore_type=<class 'jax.Array'>, dtype=dtype('float64'), mesh=None, mesh_axes=None, sharding=SingleDeviceSharding(device=CpuDevice(id=0), memory_kind=unpinned_host), global_shape=(24, 24), shape=(24, 24), strict=True)}}.",
     "output_type": "error",
     "traceback": [
      "\u001b[0;31m---------------------------------------------------------------------------\u001b[0m",
      "\u001b[0;31mValueError\u001b[0m                                Traceback (most recent call last)",
      "Cell \u001b[0;32mIn[20], line 1\u001b[0m\n\u001b[0;32m----> 1\u001b[0m \u001b[43mopt\u001b[49m\u001b[38;5;241;43m.\u001b[39;49m\u001b[43mrun\u001b[49m\u001b[43m(\u001b[49m\u001b[43m)\u001b[49m\n",
      "File \u001b[0;32m~/repos/netket_pro/deepnets/optimization/protocols.py:564\u001b[0m, in \u001b[0;36mProtocol.run\u001b[0;34m(self)\u001b[0m\n\u001b[1;32m    562\u001b[0m n_chains_per_rank \u001b[38;5;241m=\u001b[39m \u001b[38;5;241m32\u001b[39m\n\u001b[1;32m    563\u001b[0m \u001b[38;5;66;03m# print(f\"self.vstate = \", jax.tree.structure(self.vstate.variables))\u001b[39;00m\n\u001b[0;32m--> 564\u001b[0m min_index, min_energy \u001b[38;5;241m=\u001b[39m \u001b[38;5;28;43mself\u001b[39;49m\u001b[38;5;241;43m.\u001b[39;49m\u001b[43mpost_optimize\u001b[49m\u001b[43m(\u001b[49m\n\u001b[1;32m    565\u001b[0m \u001b[43m    \u001b[49m\u001b[43mlr\u001b[49m\u001b[38;5;241;43m=\u001b[39;49m\u001b[43mfinal_lr\u001b[49m\u001b[43m,\u001b[49m\u001b[43m \u001b[49m\u001b[43mdiag_shift\u001b[49m\u001b[38;5;241;43m=\u001b[39;49m\u001b[43mfinal_diag_shift\u001b[49m\u001b[43m,\u001b[49m\u001b[43m \u001b[49m\u001b[43mn_chains_per_rank\u001b[49m\u001b[38;5;241;43m=\u001b[39;49m\u001b[43mn_chains_per_rank\u001b[49m\n\u001b[1;32m    566\u001b[0m \u001b[43m\u001b[49m\u001b[43m)\u001b[49m\n\u001b[1;32m    568\u001b[0m \u001b[38;5;66;03m# Check from arguments whether the final network is symmetrized\u001b[39;00m\n\u001b[1;32m    569\u001b[0m \u001b[38;5;28;01mif\u001b[39;00m \u001b[38;5;28mself\u001b[39m\u001b[38;5;241m.\u001b[39msymmetries \u001b[38;5;129;01mor\u001b[39;00m \u001b[38;5;28mself\u001b[39m\u001b[38;5;241m.\u001b[39msymmetry_ramping:\n",
      "File \u001b[0;32m~/repos/netket_pro/deepnets/optimization/protocols.py:538\u001b[0m, in \u001b[0;36mProtocol.post_optimize\u001b[0;34m(self, lr, diag_shift, n_chains_per_rank)\u001b[0m\n\u001b[1;32m    537\u001b[0m \u001b[38;5;28;01mdef\u001b[39;00m \u001b[38;5;21mpost_optimize\u001b[39m(\u001b[38;5;28mself\u001b[39m, lr: \u001b[38;5;28mfloat\u001b[39m, diag_shift: \u001b[38;5;28mfloat\u001b[39m, n_chains_per_rank: \u001b[38;5;28mint\u001b[39m):\n\u001b[0;32m--> 538\u001b[0m     min_index, min_energy \u001b[38;5;241m=\u001b[39m \u001b[38;5;28;43mself\u001b[39;49m\u001b[38;5;241;43m.\u001b[39;49m\u001b[43mpost_optimization\u001b[49m\u001b[43m(\u001b[49m\n\u001b[1;32m    539\u001b[0m \u001b[43m        \u001b[49m\u001b[43mpost_iters\u001b[49m\u001b[38;5;241;43m=\u001b[39;49m\u001b[38;5;28;43mself\u001b[39;49m\u001b[38;5;241;43m.\u001b[39;49m\u001b[43mpost_iters\u001b[49m\u001b[43m,\u001b[49m\n\u001b[1;32m    540\u001b[0m \u001b[43m        \u001b[49m\u001b[43mlr\u001b[49m\u001b[38;5;241;43m=\u001b[39;49m\u001b[43mlr\u001b[49m\u001b[43m,\u001b[49m\n\u001b[1;32m    541\u001b[0m \u001b[43m        \u001b[49m\u001b[43mdiag_shift\u001b[49m\u001b[38;5;241;43m=\u001b[39;49m\u001b[43mdiag_shift\u001b[49m\u001b[43m,\u001b[49m\n\u001b[1;32m    542\u001b[0m \u001b[43m        \u001b[49m\u001b[43mmomentum\u001b[49m\u001b[38;5;241;43m=\u001b[39;49m\u001b[38;5;28;43mself\u001b[39;49m\u001b[38;5;241;43m.\u001b[39;49m\u001b[43mmomentum\u001b[49m\u001b[43m,\u001b[49m\n\u001b[1;32m    543\u001b[0m \u001b[43m        \u001b[49m\u001b[43msave_base\u001b[49m\u001b[38;5;241;43m=\u001b[39;49m\u001b[38;5;28;43mself\u001b[39;49m\u001b[38;5;241;43m.\u001b[39;49m\u001b[43msave_base\u001b[49m\u001b[43m,\u001b[49m\n\u001b[1;32m    544\u001b[0m \u001b[43m        \u001b[49m\u001b[43mn_chains_per_rank\u001b[49m\u001b[38;5;241;43m=\u001b[39;49m\u001b[43mn_chains_per_rank\u001b[49m\u001b[43m,\u001b[49m\n\u001b[1;32m    545\u001b[0m \u001b[43m        \u001b[49m\u001b[43mchunk_size\u001b[49m\u001b[38;5;241;43m=\u001b[39;49m\u001b[38;5;28;43mself\u001b[39;49m\u001b[38;5;241;43m.\u001b[39;49m\u001b[43mchunk_size\u001b[49m\u001b[43m,\u001b[49m\n\u001b[1;32m    546\u001b[0m \u001b[43m        \u001b[49m\u001b[43mseed\u001b[49m\u001b[38;5;241;43m=\u001b[39;49m\u001b[38;5;28;43mself\u001b[39;49m\u001b[38;5;241;43m.\u001b[39;49m\u001b[43mseed\u001b[49m\u001b[43m,\u001b[49m\n\u001b[1;32m    547\u001b[0m \u001b[43m        \u001b[49m\u001b[43moptimizer_t\u001b[49m\u001b[38;5;241;43m=\u001b[39;49m\u001b[38;5;28;43mself\u001b[39;49m\u001b[38;5;241;43m.\u001b[39;49m\u001b[43moptimizer_t\u001b[49m\u001b[43m,\u001b[49m\n\u001b[1;32m    548\u001b[0m \u001b[43m        \u001b[49m\u001b[43msampler_t\u001b[49m\u001b[38;5;241;43m=\u001b[39;49m\u001b[38;5;28;43mself\u001b[39;49m\u001b[38;5;241;43m.\u001b[39;49m\u001b[43msampler_t\u001b[49m\u001b[43m,\u001b[49m\n\u001b[1;32m    549\u001b[0m \u001b[43m        \u001b[49m\u001b[43mSR_solver\u001b[49m\u001b[38;5;241;43m=\u001b[39;49m\u001b[38;5;28;43mself\u001b[39;49m\u001b[38;5;241;43m.\u001b[39;49m\u001b[43mSR_solver\u001b[49m\u001b[43m,\u001b[49m\n\u001b[1;32m    550\u001b[0m \u001b[43m        \u001b[49m\u001b[43mold_vstate\u001b[49m\u001b[38;5;241;43m=\u001b[39;49m\u001b[38;5;28;43mself\u001b[39;49m\u001b[38;5;241;43m.\u001b[39;49m\u001b[43mvstate\u001b[49m\u001b[43m,\u001b[49m\n\u001b[1;32m    551\u001b[0m \u001b[43m        \u001b[49m\u001b[43msystem\u001b[49m\u001b[38;5;241;43m=\u001b[39;49m\u001b[38;5;28;43mself\u001b[39;49m\u001b[38;5;241;43m.\u001b[39;49m\u001b[43msystem\u001b[49m\u001b[43m,\u001b[49m\n\u001b[1;32m    552\u001b[0m \u001b[43m        \u001b[49m\u001b[43mcallbacks\u001b[49m\u001b[38;5;241;43m=\u001b[39;49m\u001b[38;5;28;43mself\u001b[39;49m\u001b[38;5;241;43m.\u001b[39;49m\u001b[43mcallbacks\u001b[49m\u001b[43m,\u001b[49m\n\u001b[1;32m    553\u001b[0m \u001b[43m    \u001b[49m\u001b[43m)\u001b[49m\n\u001b[1;32m    554\u001b[0m     \u001b[38;5;28;01mreturn\u001b[39;00m min_index, min_energy\n",
      "File \u001b[0;32m~/repos/netket_pro/deepnets/optimization/protocols.py:251\u001b[0m, in \u001b[0;36mProtocol.post_optimization\u001b[0;34m(post_iters, lr, diag_shift, momentum, save_base, n_chains_per_rank, chunk_size, seed, optimizer_t, sampler_t, SR_solver, old_vstate, system, callbacks)\u001b[0m\n\u001b[1;32m    241\u001b[0m log \u001b[38;5;241m=\u001b[39m nk\u001b[38;5;241m.\u001b[39mlogging\u001b[38;5;241m.\u001b[39mRuntimeLog()\n\u001b[1;32m    242\u001b[0m gs \u001b[38;5;241m=\u001b[39m nkc\u001b[38;5;241m.\u001b[39mdriver1\u001b[38;5;241m.\u001b[39mVMC_SRt_ntk(\n\u001b[1;32m    243\u001b[0m     system\u001b[38;5;241m.\u001b[39mhamiltonian\u001b[38;5;241m.\u001b[39mto_jax_operator(),\n\u001b[1;32m    244\u001b[0m     optimizer,\n\u001b[0;32m   (...)\u001b[0m\n\u001b[1;32m    249\u001b[0m     momentum\u001b[38;5;241m=\u001b[39mmomentum,\n\u001b[1;32m    250\u001b[0m )\n\u001b[0;32m--> 251\u001b[0m \u001b[43mgs\u001b[49m\u001b[38;5;241;43m.\u001b[39;49m\u001b[43mrun_checkpointed\u001b[49m\u001b[43m(\u001b[49m\n\u001b[1;32m    252\u001b[0m \u001b[43m    \u001b[49m\u001b[43mn_iter\u001b[49m\u001b[38;5;241;43m=\u001b[39;49m\u001b[43mpost_iters\u001b[49m\u001b[43m,\u001b[49m\u001b[43m  \u001b[49m\u001b[38;5;66;43;03m# run optimization for post_iters steps\u001b[39;49;00m\n\u001b[1;32m    253\u001b[0m \u001b[43m    \u001b[49m\u001b[43mout\u001b[49m\u001b[38;5;241;43m=\u001b[39;49m\u001b[43mlog\u001b[49m\u001b[43m,\u001b[49m\n\u001b[1;32m    254\u001b[0m \u001b[43m    \u001b[49m\u001b[43mcheckpointer\u001b[49m\u001b[38;5;241;43m=\u001b[39;49m\u001b[43mcheckpoint\u001b[49m\u001b[43m,\u001b[49m\n\u001b[1;32m    255\u001b[0m \u001b[43m    \u001b[49m\u001b[43mcallback\u001b[49m\u001b[38;5;241;43m=\u001b[39;49m\u001b[43mcallbacks\u001b[49m\u001b[43m,\u001b[49m\n\u001b[1;32m    256\u001b[0m \u001b[43m\u001b[49m\u001b[43m)\u001b[49m\n\u001b[1;32m    257\u001b[0m \u001b[38;5;66;03m# Now find lowest energy state\u001b[39;00m\n\u001b[1;32m    258\u001b[0m energies \u001b[38;5;241m=\u001b[39m np\u001b[38;5;241m.\u001b[39mreal(log[\u001b[38;5;124m\"\u001b[39m\u001b[38;5;124mEnergy\u001b[39m\u001b[38;5;124m\"\u001b[39m][\u001b[38;5;124m\"\u001b[39m\u001b[38;5;124mMean\u001b[39m\u001b[38;5;124m\"\u001b[39m])\n",
      "File \u001b[0;32m~/repos/netket_pro/packages/netket_checkpoint/_src/driver1/abstract_variational_driver.py:201\u001b[0m, in \u001b[0;36mrun_checkpointed\u001b[0;34m(self, n_iter, out, obs, step_size, show_progress, save_params_every, write_every, callback, timeit, checkpointer)\u001b[0m\n\u001b[1;32m    199\u001b[0m \u001b[38;5;28;01mif\u001b[39;00m chkptr \u001b[38;5;129;01mis\u001b[39;00m \u001b[38;5;129;01mnot\u001b[39;00m \u001b[38;5;28;01mNone\u001b[39;00m:\n\u001b[1;32m    200\u001b[0m     \u001b[38;5;28;01mif\u001b[39;00m chkptr\u001b[38;5;241m.\u001b[39mlatest_step() \u001b[38;5;129;01mis\u001b[39;00m \u001b[38;5;129;01mnot\u001b[39;00m \u001b[38;5;28;01mNone\u001b[39;00m:\n\u001b[0;32m--> 201\u001b[0m         loggers, callbacks, starting_iter \u001b[38;5;241m=\u001b[39m \u001b[38;5;28;43mself\u001b[39;49m\u001b[38;5;241;43m.\u001b[39;49m\u001b[43m_restore_checkpoint\u001b[49m\u001b[43m(\u001b[49m\n\u001b[1;32m    202\u001b[0m \u001b[43m            \u001b[49m\u001b[43mchkptr\u001b[49m\u001b[43m,\u001b[49m\n\u001b[1;32m    203\u001b[0m \u001b[43m            \u001b[49m\u001b[43mchkptr\u001b[49m\u001b[38;5;241;43m.\u001b[39;49m\u001b[43mlatest_step\u001b[49m\u001b[43m(\u001b[49m\u001b[43m)\u001b[49m\u001b[43m,\u001b[49m\n\u001b[1;32m    204\u001b[0m \u001b[43m            \u001b[49m\u001b[43mloggers\u001b[49m\u001b[38;5;241;43m=\u001b[39;49m\u001b[43mloggers\u001b[49m\u001b[43m,\u001b[49m\n\u001b[1;32m    205\u001b[0m \u001b[43m            \u001b[49m\u001b[43mcallbacks\u001b[49m\u001b[38;5;241;43m=\u001b[39;49m\u001b[43mcallbacks\u001b[49m\u001b[43m,\u001b[49m\n\u001b[1;32m    206\u001b[0m \u001b[43m            \u001b[49m\u001b[43mextra_metadata\u001b[49m\u001b[38;5;241;43m=\u001b[39;49m\u001b[43mextra_metadata\u001b[49m\u001b[43m,\u001b[49m\n\u001b[1;32m    207\u001b[0m \u001b[43m        \u001b[49m\u001b[43m)\u001b[49m\n\u001b[1;32m    208\u001b[0m         pbar\u001b[38;5;241m.\u001b[39mset_postfix_str(\u001b[38;5;28mself\u001b[39m\u001b[38;5;241m.\u001b[39m_loss_name \u001b[38;5;241m+\u001b[39m \u001b[38;5;124m\"\u001b[39m\u001b[38;5;124m=\u001b[39m\u001b[38;5;124m\"\u001b[39m \u001b[38;5;241m+\u001b[39m \u001b[38;5;28mstr\u001b[39m(\u001b[38;5;28mself\u001b[39m\u001b[38;5;241m.\u001b[39m_loss_stats))\n\u001b[1;32m    209\u001b[0m         pbar\u001b[38;5;241m.\u001b[39mupdate(starting_iter)\n",
      "    \u001b[0;31m[... skipping hidden 1 frame]\u001b[0m\n",
      "File \u001b[0;32m~/repos/netket_pro/packages/netket_checkpoint/_src/driver1/abstract_variational_driver.py:401\u001b[0m, in \u001b[0;36m_restore_checkpoint\u001b[0;34m(self, chkptr, step, loggers, callbacks, extra_metadata)\u001b[0m\n\u001b[1;32m    396\u001b[0m     serialized_args[\u001b[38;5;124m\"\u001b[39m\u001b[38;5;124mcallbacks\u001b[39m\u001b[38;5;124m\"\u001b[39m] \u001b[38;5;241m=\u001b[39m ocp\u001b[38;5;241m.\u001b[39margs\u001b[38;5;241m.\u001b[39mPyTreeRestore(\n\u001b[1;32m    397\u001b[0m         \u001b[38;5;28mlist\u001b[39m(serialization\u001b[38;5;241m.\u001b[39mto_state_dict(cb) \u001b[38;5;28;01mfor\u001b[39;00m cb \u001b[38;5;129;01min\u001b[39;00m checkpointable_callbacks)\n\u001b[1;32m    398\u001b[0m     )\n\u001b[1;32m    400\u001b[0m \u001b[38;5;66;03m# self._serialized_args = serialized_args\u001b[39;00m\n\u001b[0;32m--> 401\u001b[0m restored_data \u001b[38;5;241m=\u001b[39m \u001b[43mchkptr\u001b[49m\u001b[38;5;241;43m.\u001b[39;49m\u001b[43mrestore\u001b[49m\u001b[43m(\u001b[49m\n\u001b[1;32m    402\u001b[0m \u001b[43m    \u001b[49m\u001b[43mchkptr\u001b[49m\u001b[38;5;241;43m.\u001b[39;49m\u001b[43mlatest_step\u001b[49m\u001b[43m(\u001b[49m\u001b[43m)\u001b[49m\u001b[43m,\u001b[49m\u001b[43m \u001b[49m\u001b[43margs\u001b[49m\u001b[38;5;241;43m=\u001b[39;49m\u001b[43mocp\u001b[49m\u001b[38;5;241;43m.\u001b[39;49m\u001b[43margs\u001b[49m\u001b[38;5;241;43m.\u001b[39;49m\u001b[43mComposite\u001b[49m\u001b[43m(\u001b[49m\u001b[38;5;241;43m*\u001b[39;49m\u001b[38;5;241;43m*\u001b[39;49m\u001b[43mserialized_args\u001b[49m\u001b[43m)\u001b[49m\n\u001b[1;32m    403\u001b[0m \u001b[43m\u001b[49m\u001b[43m)\u001b[49m\n\u001b[1;32m    405\u001b[0m \u001b[38;5;66;03m# The 'loggers' entries are not in the right pytree format. In particular, we assume that the\u001b[39;00m\n\u001b[1;32m    406\u001b[0m \u001b[38;5;66;03m# tuple of loggers was converted to a dictionary with entries '0', '1', '2', up to the number of\u001b[39;00m\n\u001b[1;32m    407\u001b[0m \u001b[38;5;66;03m# loggers. Here we manually restore the tuple so that the loggers are in the correct format.\u001b[39;00m\n\u001b[0;32m   (...)\u001b[0m\n\u001b[1;32m    410\u001b[0m \u001b[38;5;66;03m#    for i in range(len(restored_data[\"loggers\"]))\u001b[39;00m\n\u001b[1;32m    411\u001b[0m \u001b[38;5;66;03m# ]\u001b[39;00m\n\u001b[1;32m    412\u001b[0m \u001b[38;5;28;01mif\u001b[39;00m \u001b[38;5;28mlen\u001b[39m(checkpointable_loggers) \u001b[38;5;241m>\u001b[39m \u001b[38;5;241m0\u001b[39m:\n",
      "File \u001b[0;32m~/repos/netket_pro/.venv/lib/python3.12/site-packages/orbax/checkpoint/checkpoint_manager.py:1370\u001b[0m, in \u001b[0;36mCheckpointManager.restore\u001b[0;34m(self, step, items, restore_kwargs, directory, args)\u001b[0m\n\u001b[1;32m   1368\u001b[0m restore_directory \u001b[38;5;241m=\u001b[39m \u001b[38;5;28mself\u001b[39m\u001b[38;5;241m.\u001b[39m_get_read_step_directory(step, directory)\n\u001b[1;32m   1369\u001b[0m step_stats\u001b[38;5;241m.\u001b[39mcheckpointer_start_time \u001b[38;5;241m=\u001b[39m time\u001b[38;5;241m.\u001b[39mtime()\n\u001b[0;32m-> 1370\u001b[0m restored \u001b[38;5;241m=\u001b[39m \u001b[38;5;28;43mself\u001b[39;49m\u001b[38;5;241;43m.\u001b[39;49m\u001b[43m_checkpointer\u001b[49m\u001b[38;5;241;43m.\u001b[39;49m\u001b[43mrestore\u001b[49m\u001b[43m(\u001b[49m\u001b[43mrestore_directory\u001b[49m\u001b[43m,\u001b[49m\u001b[43m \u001b[49m\u001b[43margs\u001b[49m\u001b[38;5;241;43m=\u001b[39;49m\u001b[43margs\u001b[49m\u001b[43m)\u001b[49m\n\u001b[1;32m   1371\u001b[0m step_stats\u001b[38;5;241m.\u001b[39mcheckpointer_duration_secs \u001b[38;5;241m=\u001b[39m (\n\u001b[1;32m   1372\u001b[0m     time\u001b[38;5;241m.\u001b[39mtime() \u001b[38;5;241m-\u001b[39m step_stats\u001b[38;5;241m.\u001b[39mcheckpointer_start_time\n\u001b[1;32m   1373\u001b[0m )\n\u001b[1;32m   1375\u001b[0m step_stats\u001b[38;5;241m.\u001b[39mcheckpoint_manager_duration_secs \u001b[38;5;241m=\u001b[39m (\n\u001b[1;32m   1376\u001b[0m     time\u001b[38;5;241m.\u001b[39mtime() \u001b[38;5;241m-\u001b[39m step_stats\u001b[38;5;241m.\u001b[39mcheckpoint_manager_start_time\n\u001b[1;32m   1377\u001b[0m )\n",
      "File \u001b[0;32m~/repos/netket_pro/.venv/lib/python3.12/site-packages/orbax/checkpoint/_src/checkpointers/async_checkpointer.py:433\u001b[0m, in \u001b[0;36mAsyncCheckpointer.restore\u001b[0;34m(self, directory, *args, **kwargs)\u001b[0m\n\u001b[1;32m    431\u001b[0m \u001b[38;5;250m\u001b[39m\u001b[38;5;124;03m\"\"\"See superclass documentation.\"\"\"\u001b[39;00m\n\u001b[1;32m    432\u001b[0m \u001b[38;5;28mself\u001b[39m\u001b[38;5;241m.\u001b[39mwait_until_finished()\n\u001b[0;32m--> 433\u001b[0m \u001b[38;5;28;01mreturn\u001b[39;00m \u001b[38;5;28;43msuper\u001b[39;49m\u001b[43m(\u001b[49m\u001b[43m)\u001b[49m\u001b[38;5;241;43m.\u001b[39;49m\u001b[43mrestore\u001b[49m\u001b[43m(\u001b[49m\u001b[43mdirectory\u001b[49m\u001b[43m,\u001b[49m\u001b[43m \u001b[49m\u001b[38;5;241;43m*\u001b[39;49m\u001b[43margs\u001b[49m\u001b[43m,\u001b[49m\u001b[43m \u001b[49m\u001b[38;5;241;43m*\u001b[39;49m\u001b[38;5;241;43m*\u001b[39;49m\u001b[43mkwargs\u001b[49m\u001b[43m)\u001b[49m\n",
      "File \u001b[0;32m~/repos/netket_pro/.venv/lib/python3.12/site-packages/orbax/checkpoint/_src/checkpointers/checkpointer.py:238\u001b[0m, in \u001b[0;36mCheckpointer.restore\u001b[0;34m(self, directory, *args, **kwargs)\u001b[0m\n\u001b[1;32m    236\u001b[0m logging\u001b[38;5;241m.\u001b[39minfo(\u001b[38;5;124m'\u001b[39m\u001b[38;5;124mRestoring checkpoint from \u001b[39m\u001b[38;5;132;01m%s\u001b[39;00m\u001b[38;5;124m.\u001b[39m\u001b[38;5;124m'\u001b[39m, directory)\n\u001b[1;32m    237\u001b[0m ckpt_args \u001b[38;5;241m=\u001b[39m construct_checkpoint_args(\u001b[38;5;28mself\u001b[39m\u001b[38;5;241m.\u001b[39m_handler, \u001b[38;5;28;01mFalse\u001b[39;00m, \u001b[38;5;241m*\u001b[39margs, \u001b[38;5;241m*\u001b[39m\u001b[38;5;241m*\u001b[39mkwargs)\n\u001b[0;32m--> 238\u001b[0m restored \u001b[38;5;241m=\u001b[39m \u001b[38;5;28;43mself\u001b[39;49m\u001b[38;5;241;43m.\u001b[39;49m\u001b[43m_restore\u001b[49m\u001b[43m(\u001b[49m\u001b[43mdirectory\u001b[49m\u001b[43m,\u001b[49m\u001b[43m \u001b[49m\u001b[43margs\u001b[49m\u001b[38;5;241;43m=\u001b[39;49m\u001b[43mckpt_args\u001b[49m\u001b[43m)\u001b[49m\n\u001b[1;32m    239\u001b[0m logging\u001b[38;5;241m.\u001b[39minfo(\u001b[38;5;124m'\u001b[39m\u001b[38;5;124mFinished restoring checkpoint from \u001b[39m\u001b[38;5;132;01m%s\u001b[39;00m\u001b[38;5;124m.\u001b[39m\u001b[38;5;124m'\u001b[39m, directory)\n\u001b[1;32m    240\u001b[0m multihost\u001b[38;5;241m.\u001b[39msync_global_processes(\n\u001b[1;32m    241\u001b[0m     multihost\u001b[38;5;241m.\u001b[39munique_barrier_key(\n\u001b[1;32m    242\u001b[0m         \u001b[38;5;124m'\u001b[39m\u001b[38;5;124mCheckpointer:restore\u001b[39m\u001b[38;5;124m'\u001b[39m,\n\u001b[0;32m   (...)\u001b[0m\n\u001b[1;32m    245\u001b[0m     processes\u001b[38;5;241m=\u001b[39m\u001b[38;5;28mself\u001b[39m\u001b[38;5;241m.\u001b[39m_active_processes,\n\u001b[1;32m    246\u001b[0m )\n",
      "File \u001b[0;32m~/repos/netket_pro/.venv/lib/python3.12/site-packages/orbax/checkpoint/_src/checkpointers/checkpointer.py:252\u001b[0m, in \u001b[0;36mCheckpointer._restore\u001b[0;34m(self, directory, args)\u001b[0m\n\u001b[1;32m    249\u001b[0m \u001b[38;5;28;01mdef\u001b[39;00m \u001b[38;5;21m_restore\u001b[39m(\n\u001b[1;32m    250\u001b[0m     \u001b[38;5;28mself\u001b[39m, directory: epath\u001b[38;5;241m.\u001b[39mPathLike, args: checkpoint_args\u001b[38;5;241m.\u001b[39mCheckpointArgs\n\u001b[1;32m    251\u001b[0m ) \u001b[38;5;241m-\u001b[39m\u001b[38;5;241m>\u001b[39m Any:\n\u001b[0;32m--> 252\u001b[0m   \u001b[38;5;28;01mreturn\u001b[39;00m \u001b[38;5;28;43mself\u001b[39;49m\u001b[38;5;241;43m.\u001b[39;49m\u001b[43m_handler\u001b[49m\u001b[38;5;241;43m.\u001b[39;49m\u001b[43mrestore\u001b[49m\u001b[43m(\u001b[49m\u001b[43mdirectory\u001b[49m\u001b[43m,\u001b[49m\u001b[43m \u001b[49m\u001b[43margs\u001b[49m\u001b[38;5;241;43m=\u001b[39;49m\u001b[43margs\u001b[49m\u001b[43m)\u001b[49m\n",
      "File \u001b[0;32m~/repos/netket_pro/.venv/lib/python3.12/site-packages/orbax/checkpoint/_src/handlers/composite_checkpoint_handler.py:811\u001b[0m, in \u001b[0;36mCompositeCheckpointHandler.restore\u001b[0;34m(self, directory, args)\u001b[0m\n\u001b[1;32m    806\u001b[0m     \u001b[38;5;28;01mraise\u001b[39;00m \u001b[38;5;167;01mKeyError\u001b[39;00m(\n\u001b[1;32m    807\u001b[0m         \u001b[38;5;124mf\u001b[39m\u001b[38;5;124m'\u001b[39m\u001b[38;5;124mItem \u001b[39m\u001b[38;5;124m\"\u001b[39m\u001b[38;5;132;01m{\u001b[39;00mitem_name\u001b[38;5;132;01m}\u001b[39;00m\u001b[38;5;124m\"\u001b[39m\u001b[38;5;124m was not found in the checkpoint. Available\u001b[39m\u001b[38;5;124m'\u001b[39m\n\u001b[1;32m    808\u001b[0m         \u001b[38;5;124mf\u001b[39m\u001b[38;5;124m'\u001b[39m\u001b[38;5;124m items: \u001b[39m\u001b[38;5;132;01m{\u001b[39;00mexisting_items\u001b[38;5;132;01m}\u001b[39;00m\u001b[38;5;124m'\u001b[39m\n\u001b[1;32m    809\u001b[0m     )\n\u001b[1;32m    810\u001b[0m   handler \u001b[38;5;241m=\u001b[39m \u001b[38;5;28mself\u001b[39m\u001b[38;5;241m.\u001b[39m_get_or_set_handler(item_name, arg)\n\u001b[0;32m--> 811\u001b[0m   restored[item_name] \u001b[38;5;241m=\u001b[39m \u001b[43mhandler\u001b[49m\u001b[38;5;241;43m.\u001b[39;49m\u001b[43mrestore\u001b[49m\u001b[43m(\u001b[49m\n\u001b[1;32m    812\u001b[0m \u001b[43m      \u001b[49m\u001b[38;5;28;43mself\u001b[39;49m\u001b[38;5;241;43m.\u001b[39;49m\u001b[43m_get_item_directory\u001b[49m\u001b[43m(\u001b[49m\u001b[43mdirectory\u001b[49m\u001b[43m,\u001b[49m\u001b[43m \u001b[49m\u001b[43mitem_name\u001b[49m\u001b[43m)\u001b[49m\u001b[43m,\u001b[49m\u001b[43m \u001b[49m\u001b[43margs\u001b[49m\u001b[38;5;241;43m=\u001b[39;49m\u001b[43marg\u001b[49m\n\u001b[1;32m    813\u001b[0m \u001b[43m  \u001b[49m\u001b[43m)\u001b[49m\n\u001b[1;32m    814\u001b[0m \u001b[38;5;28;01mreturn\u001b[39;00m CompositeResults(\u001b[38;5;241m*\u001b[39m\u001b[38;5;241m*\u001b[39mrestored)\n",
      "File \u001b[0;32m~/repos/netket_pro/.venv/lib/python3.12/site-packages/orbax/checkpoint/_src/handlers/pytree_checkpoint_handler.py:785\u001b[0m, in \u001b[0;36mPyTreeCheckpointHandler.restore\u001b[0;34m(self, directory, item, restore_args, transforms, transforms_default_to_original, legacy_transform_fn, args)\u001b[0m\n\u001b[1;32m    775\u001b[0m \u001b[38;5;28;01mif\u001b[39;00m (\n\u001b[1;32m    776\u001b[0m     (directory \u001b[38;5;241m/\u001b[39m PYTREE_METADATA_FILE)\u001b[38;5;241m.\u001b[39mexists()\n\u001b[1;32m    777\u001b[0m     \u001b[38;5;129;01mand\u001b[39;00m can_ignore_aggregate_file\n\u001b[1;32m    778\u001b[0m     \u001b[38;5;129;01mand\u001b[39;00m transforms \u001b[38;5;129;01mis\u001b[39;00m \u001b[38;5;28;01mNone\u001b[39;00m\n\u001b[1;32m    779\u001b[0m     \u001b[38;5;129;01mand\u001b[39;00m legacy_transform_fn \u001b[38;5;129;01mis\u001b[39;00m \u001b[38;5;28;01mNone\u001b[39;00m\n\u001b[1;32m    780\u001b[0m ):\n\u001b[1;32m    781\u001b[0m   args \u001b[38;5;241m=\u001b[39m BasePyTreeRestoreArgs(\n\u001b[1;32m    782\u001b[0m       item,\n\u001b[1;32m    783\u001b[0m       restore_args\u001b[38;5;241m=\u001b[39mrestore_args,\n\u001b[1;32m    784\u001b[0m   )\n\u001b[0;32m--> 785\u001b[0m   \u001b[38;5;28;01mreturn\u001b[39;00m \u001b[38;5;28;43mself\u001b[39;49m\u001b[38;5;241;43m.\u001b[39;49m\u001b[43m_handler_impl\u001b[49m\u001b[38;5;241;43m.\u001b[39;49m\u001b[43mrestore\u001b[49m\u001b[43m(\u001b[49m\u001b[43mdirectory\u001b[49m\u001b[43m,\u001b[49m\u001b[43m \u001b[49m\u001b[43margs\u001b[49m\u001b[38;5;241;43m=\u001b[39;49m\u001b[43margs\u001b[49m\u001b[43m)\u001b[49m\n\u001b[1;32m    787\u001b[0m logging\u001b[38;5;241m.\u001b[39mvlog(\u001b[38;5;241m1\u001b[39m, \u001b[38;5;124m'\u001b[39m\u001b[38;5;124mdirectory=\u001b[39m\u001b[38;5;132;01m%s\u001b[39;00m\u001b[38;5;124m, restore_args=\u001b[39m\u001b[38;5;132;01m%s\u001b[39;00m\u001b[38;5;124m'\u001b[39m, directory, restore_args)\n\u001b[1;32m    788\u001b[0m \u001b[38;5;28;01mif\u001b[39;00m \u001b[38;5;129;01mnot\u001b[39;00m directory\u001b[38;5;241m.\u001b[39mexists():\n",
      "File \u001b[0;32m~/repos/netket_pro/.venv/lib/python3.12/site-packages/orbax/checkpoint/_src/handlers/base_pytree_checkpoint_handler.py:704\u001b[0m, in \u001b[0;36mBasePyTreeCheckpointHandler.restore\u001b[0;34m(self, directory, args)\u001b[0m\n\u001b[1;32m    696\u001b[0m param_infos \u001b[38;5;241m=\u001b[39m \u001b[38;5;28mself\u001b[39m\u001b[38;5;241m.\u001b[39m_get_param_infos(\n\u001b[1;32m    697\u001b[0m     item\u001b[38;5;241m=\u001b[39mvalue_metadata_tree,\n\u001b[1;32m    698\u001b[0m     directory\u001b[38;5;241m=\u001b[39mdirectory,\n\u001b[0;32m   (...)\u001b[0m\n\u001b[1;32m    701\u001b[0m     raise_array_data_missing_error\u001b[38;5;241m=\u001b[39mraise_array_data_missing_error,\n\u001b[1;32m    702\u001b[0m )\n\u001b[1;32m    703\u001b[0m \u001b[38;5;66;03m# Begin restore.\u001b[39;00m\n\u001b[0;32m--> 704\u001b[0m tree_memory_size, restored_item \u001b[38;5;241m=\u001b[39m \u001b[43masyncio_utils\u001b[49m\u001b[38;5;241;43m.\u001b[39;49m\u001b[43mrun_sync\u001b[49m\u001b[43m(\u001b[49m\n\u001b[1;32m    705\u001b[0m \u001b[43m    \u001b[49m\u001b[38;5;28;43mself\u001b[39;49m\u001b[38;5;241;43m.\u001b[39;49m\u001b[43m_maybe_deserialize\u001b[49m\u001b[43m(\u001b[49m\n\u001b[1;32m    706\u001b[0m \u001b[43m        \u001b[49m\u001b[43mitem\u001b[49m\u001b[43m,\u001b[49m\u001b[43m \u001b[49m\u001b[43mvalue_metadata_tree\u001b[49m\u001b[43m,\u001b[49m\u001b[43m \u001b[49m\u001b[43mparam_infos\u001b[49m\u001b[43m,\u001b[49m\u001b[43m \u001b[49m\u001b[43mrestore_args\u001b[49m\n\u001b[1;32m    707\u001b[0m \u001b[43m    \u001b[49m\u001b[43m)\u001b[49m\n\u001b[1;32m    708\u001b[0m \u001b[43m\u001b[49m\u001b[43m)\u001b[49m\n\u001b[1;32m    710\u001b[0m \u001b[38;5;28;01mif\u001b[39;00m logging\u001b[38;5;241m.\u001b[39mvlog_is_on(\u001b[38;5;241m1\u001b[39m):\n\u001b[1;32m    711\u001b[0m   logging\u001b[38;5;241m.\u001b[39mvlog(\u001b[38;5;241m1\u001b[39m, \u001b[38;5;124m'\u001b[39m\u001b[38;5;124mparam_infos: \u001b[39m\u001b[38;5;132;01m%s\u001b[39;00m\u001b[38;5;124m'\u001b[39m, param_infos)\n",
      "File \u001b[0;32m~/repos/netket_pro/.venv/lib/python3.12/site-packages/orbax/checkpoint/_src/asyncio_utils.py:50\u001b[0m, in \u001b[0;36mrun_sync\u001b[0;34m(coro, enable_nest_asyncio)\u001b[0m\n\u001b[1;32m     48\u001b[0m \u001b[38;5;28;01mexcept\u001b[39;00m \u001b[38;5;167;01mRuntimeError\u001b[39;00m:\n\u001b[1;32m     49\u001b[0m   \u001b[38;5;28;01mpass\u001b[39;00m\n\u001b[0;32m---> 50\u001b[0m \u001b[38;5;28;01mreturn\u001b[39;00m \u001b[43masyncio\u001b[49m\u001b[38;5;241;43m.\u001b[39;49m\u001b[43mrun\u001b[49m\u001b[43m(\u001b[49m\u001b[43mcoro\u001b[49m\u001b[43m)\u001b[49m\n",
      "File \u001b[0;32m~/repos/netket_pro/.venv/lib/python3.12/site-packages/nest_asyncio.py:30\u001b[0m, in \u001b[0;36m_patch_asyncio.<locals>.run\u001b[0;34m(main, debug)\u001b[0m\n\u001b[1;32m     28\u001b[0m task \u001b[38;5;241m=\u001b[39m asyncio\u001b[38;5;241m.\u001b[39mensure_future(main)\n\u001b[1;32m     29\u001b[0m \u001b[38;5;28;01mtry\u001b[39;00m:\n\u001b[0;32m---> 30\u001b[0m     \u001b[38;5;28;01mreturn\u001b[39;00m \u001b[43mloop\u001b[49m\u001b[38;5;241;43m.\u001b[39;49m\u001b[43mrun_until_complete\u001b[49m\u001b[43m(\u001b[49m\u001b[43mtask\u001b[49m\u001b[43m)\u001b[49m\n\u001b[1;32m     31\u001b[0m \u001b[38;5;28;01mfinally\u001b[39;00m:\n\u001b[1;32m     32\u001b[0m     \u001b[38;5;28;01mif\u001b[39;00m \u001b[38;5;129;01mnot\u001b[39;00m task\u001b[38;5;241m.\u001b[39mdone():\n",
      "File \u001b[0;32m~/repos/netket_pro/.venv/lib/python3.12/site-packages/nest_asyncio.py:98\u001b[0m, in \u001b[0;36m_patch_loop.<locals>.run_until_complete\u001b[0;34m(self, future)\u001b[0m\n\u001b[1;32m     95\u001b[0m \u001b[38;5;28;01mif\u001b[39;00m \u001b[38;5;129;01mnot\u001b[39;00m f\u001b[38;5;241m.\u001b[39mdone():\n\u001b[1;32m     96\u001b[0m     \u001b[38;5;28;01mraise\u001b[39;00m \u001b[38;5;167;01mRuntimeError\u001b[39;00m(\n\u001b[1;32m     97\u001b[0m         \u001b[38;5;124m'\u001b[39m\u001b[38;5;124mEvent loop stopped before Future completed.\u001b[39m\u001b[38;5;124m'\u001b[39m)\n\u001b[0;32m---> 98\u001b[0m \u001b[38;5;28;01mreturn\u001b[39;00m \u001b[43mf\u001b[49m\u001b[38;5;241;43m.\u001b[39;49m\u001b[43mresult\u001b[49m\u001b[43m(\u001b[49m\u001b[43m)\u001b[49m\n",
      "File \u001b[0;32m/opt/homebrew/Cellar/python@3.12/3.12.7_1/Frameworks/Python.framework/Versions/3.12/lib/python3.12/asyncio/futures.py:203\u001b[0m, in \u001b[0;36mFuture.result\u001b[0;34m(self)\u001b[0m\n\u001b[1;32m    201\u001b[0m \u001b[38;5;28mself\u001b[39m\u001b[38;5;241m.\u001b[39m__log_traceback \u001b[38;5;241m=\u001b[39m \u001b[38;5;28;01mFalse\u001b[39;00m\n\u001b[1;32m    202\u001b[0m \u001b[38;5;28;01mif\u001b[39;00m \u001b[38;5;28mself\u001b[39m\u001b[38;5;241m.\u001b[39m_exception \u001b[38;5;129;01mis\u001b[39;00m \u001b[38;5;129;01mnot\u001b[39;00m \u001b[38;5;28;01mNone\u001b[39;00m:\n\u001b[0;32m--> 203\u001b[0m     \u001b[38;5;28;01mraise\u001b[39;00m \u001b[38;5;28mself\u001b[39m\u001b[38;5;241m.\u001b[39m_exception\u001b[38;5;241m.\u001b[39mwith_traceback(\u001b[38;5;28mself\u001b[39m\u001b[38;5;241m.\u001b[39m_exception_tb)\n\u001b[1;32m    204\u001b[0m \u001b[38;5;28;01mreturn\u001b[39;00m \u001b[38;5;28mself\u001b[39m\u001b[38;5;241m.\u001b[39m_result\n",
      "File \u001b[0;32m/opt/homebrew/Cellar/python@3.12/3.12.7_1/Frameworks/Python.framework/Versions/3.12/lib/python3.12/asyncio/tasks.py:314\u001b[0m, in \u001b[0;36mTask.__step_run_and_handle_result\u001b[0;34m(***failed resolving arguments***)\u001b[0m\n\u001b[1;32m    310\u001b[0m \u001b[38;5;28;01mtry\u001b[39;00m:\n\u001b[1;32m    311\u001b[0m     \u001b[38;5;28;01mif\u001b[39;00m exc \u001b[38;5;129;01mis\u001b[39;00m \u001b[38;5;28;01mNone\u001b[39;00m:\n\u001b[1;32m    312\u001b[0m         \u001b[38;5;66;03m# We use the `send` method directly, because coroutines\u001b[39;00m\n\u001b[1;32m    313\u001b[0m         \u001b[38;5;66;03m# don't have `__iter__` and `__next__` methods.\u001b[39;00m\n\u001b[0;32m--> 314\u001b[0m         result \u001b[38;5;241m=\u001b[39m \u001b[43mcoro\u001b[49m\u001b[38;5;241;43m.\u001b[39;49m\u001b[43msend\u001b[49m\u001b[43m(\u001b[49m\u001b[38;5;28;43;01mNone\u001b[39;49;00m\u001b[43m)\u001b[49m\n\u001b[1;32m    315\u001b[0m     \u001b[38;5;28;01melse\u001b[39;00m:\n\u001b[1;32m    316\u001b[0m         result \u001b[38;5;241m=\u001b[39m coro\u001b[38;5;241m.\u001b[39mthrow(exc)\n",
      "File \u001b[0;32m~/repos/netket_pro/.venv/lib/python3.12/site-packages/orbax/checkpoint/_src/handlers/base_pytree_checkpoint_handler.py:540\u001b[0m, in \u001b[0;36mBasePyTreeCheckpointHandler._maybe_deserialize\u001b[0;34m(self, item, metadata, param_infos, restore_args)\u001b[0m\n\u001b[1;32m    533\u001b[0m byte_limiter \u001b[38;5;241m=\u001b[39m serialization\u001b[38;5;241m.\u001b[39mget_byte_limiter(\n\u001b[1;32m    534\u001b[0m     \u001b[38;5;28mself\u001b[39m\u001b[38;5;241m.\u001b[39m_restore_concurrent_bytes\n\u001b[1;32m    535\u001b[0m )\n\u001b[1;32m    536\u001b[0m param_infos \u001b[38;5;241m=\u001b[39m jax\u001b[38;5;241m.\u001b[39mtree\u001b[38;5;241m.\u001b[39mmap(\n\u001b[1;32m    537\u001b[0m     \u001b[38;5;28;01mlambda\u001b[39;00m info: dataclasses\u001b[38;5;241m.\u001b[39mreplace(info, byte_limiter\u001b[38;5;241m=\u001b[39mbyte_limiter),\n\u001b[1;32m    538\u001b[0m     param_infos,\n\u001b[1;32m    539\u001b[0m )\n\u001b[0;32m--> 540\u001b[0m batch_requests \u001b[38;5;241m=\u001b[39m \u001b[43mbatched_serialization_requests\u001b[49m\u001b[43m(\u001b[49m\n\u001b[1;32m    541\u001b[0m \u001b[43m    \u001b[49m\u001b[43mmetadata\u001b[49m\u001b[43m,\u001b[49m\n\u001b[1;32m    542\u001b[0m \u001b[43m    \u001b[49m\u001b[43mparam_infos\u001b[49m\u001b[43m,\u001b[49m\n\u001b[1;32m    543\u001b[0m \u001b[43m    \u001b[49m\u001b[43mrestore_args\u001b[49m\u001b[43m,\u001b[49m\n\u001b[1;32m    544\u001b[0m \u001b[43m    \u001b[49m\u001b[38;5;28;43mself\u001b[39;49m\u001b[38;5;241;43m.\u001b[39;49m\u001b[43m_type_handler_registry\u001b[49m\u001b[43m,\u001b[49m\n\u001b[1;32m    545\u001b[0m \u001b[43m\u001b[49m\u001b[43m)\u001b[49m\n\u001b[1;32m    546\u001b[0m deserialized_batches \u001b[38;5;241m=\u001b[39m []\n\u001b[1;32m    547\u001b[0m deserialized_batches_ops \u001b[38;5;241m=\u001b[39m []\n",
      "File \u001b[0;32m~/repos/netket_pro/.venv/lib/python3.12/site-packages/orbax/checkpoint/_src/handlers/base_pytree_checkpoint_handler.py:213\u001b[0m, in \u001b[0;36mbatched_serialization_requests\u001b[0;34m(tree, param_infos, args, registry)\u001b[0m\n\u001b[1;32m    204\u001b[0m   request \u001b[38;5;241m=\u001b[39m grouped[handler]\n\u001b[1;32m    205\u001b[0m   grouped[handler] \u001b[38;5;241m=\u001b[39m dataclasses\u001b[38;5;241m.\u001b[39mreplace(\n\u001b[1;32m    206\u001b[0m       request,\n\u001b[1;32m    207\u001b[0m       keys\u001b[38;5;241m=\u001b[39mrequest\u001b[38;5;241m.\u001b[39mkeys \u001b[38;5;241m+\u001b[39m [tuple_key],\n\u001b[0;32m   (...)\u001b[0m\n\u001b[1;32m    210\u001b[0m       args\u001b[38;5;241m=\u001b[39mrequest\u001b[38;5;241m.\u001b[39margs \u001b[38;5;241m+\u001b[39m [arg],\n\u001b[1;32m    211\u001b[0m   )\n\u001b[0;32m--> 213\u001b[0m \u001b[43mjax\u001b[49m\u001b[38;5;241;43m.\u001b[39;49m\u001b[43mtree_util\u001b[49m\u001b[38;5;241;43m.\u001b[39;49m\u001b[43mtree_map_with_path\u001b[49m\u001b[43m(\u001b[49m\n\u001b[1;32m    214\u001b[0m \u001b[43m    \u001b[49m\u001b[43m_group_value\u001b[49m\u001b[43m,\u001b[49m\n\u001b[1;32m    215\u001b[0m \u001b[43m    \u001b[49m\u001b[43mparam_infos\u001b[49m\u001b[43m,\u001b[49m\n\u001b[1;32m    216\u001b[0m \u001b[43m    \u001b[49m\u001b[43mtree\u001b[49m\u001b[43m,\u001b[49m\n\u001b[1;32m    217\u001b[0m \u001b[43m    \u001b[49m\u001b[43margs\u001b[49m\u001b[43m,\u001b[49m\n\u001b[1;32m    218\u001b[0m \u001b[43m\u001b[49m\u001b[43m)\u001b[49m\n\u001b[1;32m    219\u001b[0m \u001b[38;5;28;01mreturn\u001b[39;00m \u001b[38;5;28mlist\u001b[39m(grouped\u001b[38;5;241m.\u001b[39mvalues())\n",
      "File \u001b[0;32m~/repos/netket_pro/.venv/lib/python3.12/site-packages/jax/_src/tree_util.py:1156\u001b[0m, in \u001b[0;36mtree_map_with_path\u001b[0;34m(f, tree, is_leaf, *rest)\u001b[0m\n\u001b[1;32m   1154\u001b[0m keypath_leaves, treedef \u001b[38;5;241m=\u001b[39m tree_flatten_with_path(tree, is_leaf)\n\u001b[1;32m   1155\u001b[0m keypath_leaves \u001b[38;5;241m=\u001b[39m \u001b[38;5;28mlist\u001b[39m(\u001b[38;5;28mzip\u001b[39m(\u001b[38;5;241m*\u001b[39mkeypath_leaves))\n\u001b[0;32m-> 1156\u001b[0m all_keypath_leaves \u001b[38;5;241m=\u001b[39m keypath_leaves \u001b[38;5;241m+\u001b[39m [\u001b[43mtreedef\u001b[49m\u001b[38;5;241;43m.\u001b[39;49m\u001b[43mflatten_up_to\u001b[49m\u001b[43m(\u001b[49m\u001b[43mr\u001b[49m\u001b[43m)\u001b[49m \u001b[38;5;28;01mfor\u001b[39;00m r \u001b[38;5;129;01min\u001b[39;00m rest]\n\u001b[1;32m   1157\u001b[0m \u001b[38;5;28;01mreturn\u001b[39;00m treedef\u001b[38;5;241m.\u001b[39munflatten(f(\u001b[38;5;241m*\u001b[39mxs) \u001b[38;5;28;01mfor\u001b[39;00m xs \u001b[38;5;129;01min\u001b[39;00m \u001b[38;5;28mzip\u001b[39m(\u001b[38;5;241m*\u001b[39mall_keypath_leaves))\n",
      "\u001b[0;31mValueError\u001b[0m: Dict key mismatch; expected keys: ['norms_imag_0', 'norms_real_0', 'out_layer_norm', 'output_layers_imag_0', 'output_layers_real_0']; dict: {'norms_imag_0': {'bias': ArrayRestoreArgs(restore_type=<class 'jax.Array'>, dtype=dtype('float64'), mesh=None, mesh_axes=None, sharding=SingleDeviceSharding(device=CpuDevice(id=0), memory_kind=unpinned_host), global_shape=(24,), shape=(24,), strict=True), 'scale': ArrayRestoreArgs(restore_type=<class 'jax.Array'>, dtype=dtype('float64'), mesh=None, mesh_axes=None, sharding=SingleDeviceSharding(device=CpuDevice(id=0), memory_kind=unpinned_host), global_shape=(24,), shape=(24,), strict=True)}, 'norms_imag_1': {'bias': ArrayRestoreArgs(restore_type=<class 'jax.Array'>, dtype=dtype('float64'), mesh=None, mesh_axes=None, sharding=SingleDeviceSharding(device=CpuDevice(id=0), memory_kind=unpinned_host), global_shape=(24,), shape=(24,), strict=True), 'scale': ArrayRestoreArgs(restore_type=<class 'jax.Array'>, dtype=dtype('float64'), mesh=None, mesh_axes=None, sharding=SingleDeviceSharding(device=CpuDevice(id=0), memory_kind=unpinned_host), global_shape=(24,), shape=(24,), strict=True)}, 'norms_real_0': {'bias': ArrayRestoreArgs(restore_type=<class 'jax.Array'>, dtype=dtype('float64'), mesh=None, mesh_axes=None, sharding=SingleDeviceSharding(device=CpuDevice(id=0), memory_kind=unpinned_host), global_shape=(24,), shape=(24,), strict=True), 'scale': ArrayRestoreArgs(restore_type=<class 'jax.Array'>, dtype=dtype('float64'), mesh=None, mesh_axes=None, sharding=SingleDeviceSharding(device=CpuDevice(id=0), memory_kind=unpinned_host), global_shape=(24,), shape=(24,), strict=True)}, 'norms_real_1': {'bias': ArrayRestoreArgs(restore_type=<class 'jax.Array'>, dtype=dtype('float64'), mesh=None, mesh_axes=None, sharding=SingleDeviceSharding(device=CpuDevice(id=0), memory_kind=unpinned_host), global_shape=(24,), shape=(24,), strict=True), 'scale': ArrayRestoreArgs(restore_type=<class 'jax.Array'>, dtype=dtype('float64'), mesh=None, mesh_axes=None, sharding=SingleDeviceSharding(device=CpuDevice(id=0), memory_kind=unpinned_host), global_shape=(24,), shape=(24,), strict=True)}, 'out_layer_norm': {'bias': ArrayRestoreArgs(restore_type=<class 'jax.Array'>, dtype=dtype('float64'), mesh=None, mesh_axes=None, sharding=SingleDeviceSharding(device=CpuDevice(id=0), memory_kind=unpinned_host), global_shape=(12,), shape=(12,), strict=True), 'scale': ArrayRestoreArgs(restore_type=<class 'jax.Array'>, dtype=dtype('float64'), mesh=None, mesh_axes=None, sharding=SingleDeviceSharding(device=CpuDevice(id=0), memory_kind=unpinned_host), global_shape=(12,), shape=(12,), strict=True)}, 'output_layers_imag_0': {'bias': ArrayRestoreArgs(restore_type=<class 'jax.Array'>, dtype=dtype('float64'), mesh=None, mesh_axes=None, sharding=SingleDeviceSharding(device=CpuDevice(id=0), memory_kind=unpinned_host), global_shape=(24,), shape=(24,), strict=True), 'kernel': ArrayRestoreArgs(restore_type=<class 'jax.Array'>, dtype=dtype('float64'), mesh=None, mesh_axes=None, sharding=SingleDeviceSharding(device=CpuDevice(id=0), memory_kind=unpinned_host), global_shape=(12, 24), shape=(12, 24), strict=True)}, 'output_layers_imag_1': {'bias': ArrayRestoreArgs(restore_type=<class 'jax.Array'>, dtype=dtype('float64'), mesh=None, mesh_axes=None, sharding=SingleDeviceSharding(device=CpuDevice(id=0), memory_kind=unpinned_host), global_shape=(24,), shape=(24,), strict=True), 'kernel': ArrayRestoreArgs(restore_type=<class 'jax.Array'>, dtype=dtype('float64'), mesh=None, mesh_axes=None, sharding=SingleDeviceSharding(device=CpuDevice(id=0), memory_kind=unpinned_host), global_shape=(24, 24), shape=(24, 24), strict=True)}, 'output_layers_real_0': {'bias': ArrayRestoreArgs(restore_type=<class 'jax.Array'>, dtype=dtype('float64'), mesh=None, mesh_axes=None, sharding=SingleDeviceSharding(device=CpuDevice(id=0), memory_kind=unpinned_host), global_shape=(24,), shape=(24,), strict=True), 'kernel': ArrayRestoreArgs(restore_type=<class 'jax.Array'>, dtype=dtype('float64'), mesh=None, mesh_axes=None, sharding=SingleDeviceSharding(device=CpuDevice(id=0), memory_kind=unpinned_host), global_shape=(12, 24), shape=(12, 24), strict=True)}, 'output_layers_real_1': {'bias': ArrayRestoreArgs(restore_type=<class 'jax.Array'>, dtype=dtype('float64'), mesh=None, mesh_axes=None, sharding=SingleDeviceSharding(device=CpuDevice(id=0), memory_kind=unpinned_host), global_shape=(24,), shape=(24,), strict=True), 'kernel': ArrayRestoreArgs(restore_type=<class 'jax.Array'>, dtype=dtype('float64'), mesh=None, mesh_axes=None, sharding=SingleDeviceSharding(device=CpuDevice(id=0), memory_kind=unpinned_host), global_shape=(24, 24), shape=(24, 24), strict=True)}}."
     ]
    }
   ],
   "source": [
    "opt.run()"
   ]
  },
  {
   "cell_type": "code",
   "execution_count": null,
   "metadata": {},
   "outputs": [],
   "source": []
  },
  {
   "cell_type": "code",
   "execution_count": null,
   "metadata": {},
   "outputs": [],
   "source": []
  }
 ],
 "metadata": {
  "kernelspec": {
   "display_name": ".venv",
   "language": "python",
   "name": "python3"
  },
  "language_info": {
   "codemirror_mode": {
    "name": "ipython",
    "version": 3
   },
   "file_extension": ".py",
   "mimetype": "text/x-python",
   "name": "python",
   "nbconvert_exporter": "python",
   "pygments_lexer": "ipython3",
   "version": "3.12.7"
  }
 },
 "nbformat": 4,
 "nbformat_minor": 2
}
