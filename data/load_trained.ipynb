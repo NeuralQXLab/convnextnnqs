{
 "cells": [
  {
   "cell_type": "code",
   "execution_count": null,
   "metadata": {},
   "outputs": [],
   "source": [
    "from deepnets.net.ConvNext.stems import PatchStem\n",
    "from deepnets.net.ConvNext.heads import OutputHead\n",
    "from deepnets.system import Shastry_Sutherland\n",
    "import jax\n",
    "import numpy as np\n",
    "import netket as nk"
   ]
  },
  {
   "cell_type": "code",
   "execution_count": null,
   "metadata": {},
   "outputs": [],
   "source": [
    "def get_variables(dir: str, n_chains_load = 256, checkpoint_file = \"post/checkpoint\"):\n",
    "    if checkpoint_file == \"post/checkpoint\":\n",
    "        symmetry_stage = -1 #get data from post optimization\n",
    "    else:\n",
    "        symmetry_stage = int(checkpoint_file[-1]) #assuming checkpoint_file  is \"....{symmetry_stage}\"\n",
    "    net_name = \"ConvNext\"\n",
    "    min_index, system, network, n_chains = save_load.load(dir + \"/post.json\", net_name, symmetry_stage = symmetry_stage)\n",
    "    if n_chains is None:\n",
    "        n_chains = n_chains_load\n",
    "\n",
    "    sampler = nk.sampler.MetropolisExchange(\n",
    "        system.hilbert_space, graph=system.graph, n_chains=n_chains_load\n",
    "    )\n",
    "    vstate = nk.vqs.MCState(sampler, model=network)\n",
    "    checkpoint = nkc.checkpoint.CheckpointManager(dir + checkpoint_file)\n",
    "    if checkpoint_file == \"post/checkpoint\":\n",
    "        vstate= checkpoint.restore_state(vstate, step=min_index + 1) #\n",
    "    else:\n",
    "        vstate = checkpoint.restore_state(vstate, step = 2500)\n",
    "    return vstate.variables"
   ]
  },
  {
   "cell_type": "code",
   "execution_count": null,
   "metadata": {},
   "outputs": [],
   "source": [
    "#L = 6 patched\n",
    "L = 6\n",
    "#Make sure to checkout netket_pro to old commit c154c435e6911999435828792b7d8a7913ff1c48\n",
    "dir = \"/Users/rajah.nutakki/cluster/projects/jeanzay/deepNQS/ConvNext/03_10_24/L=6/symm_ramp/0/\"\n",
    "vars = get_variables(dir,checkpoint_file=\"checkpoint0\")\n",
    "system = Shastry_Sutherland(L = L, J = [0.8,1])\n",
    "stem_vars = vars['params']['stem']\n",
    "encoder_vars=vars['params']['encoder']"
   ]
  },
  {
   "cell_type": "code",
   "execution_count": null,
   "metadata": {},
   "outputs": [],
   "source": [
    "#L = 6 patched\n",
    "L = 6\n",
    "#Make sure to checkout netket_pro to old commit c154c435e6911999435828792b7d8a7913ff1c48\n",
    "dir = \"/Users/rajah.nutakki/cluster/projects/jeanzay/deepNQS/ConvNext/03_10_24/L=6/symm_ramp/0/\"\n",
    "vars = get_variables(dir,checkpoint_file=\"checkpoint0\")\n",
    "system = Shastry_Sutherland(L = L, J = [0.8,1])\n",
    "stem_vars = vars['params']['stem']\n",
    "encoder_vars=vars['params']['encoder']"
   ]
  }
 ],
 "metadata": {
  "kernelspec": {
   "display_name": ".venv",
   "language": "python",
   "name": "python3"
  },
  "language_info": {
   "name": "python",
   "version": "3.12.8"
  }
 },
 "nbformat": 4,
 "nbformat_minor": 2
}
