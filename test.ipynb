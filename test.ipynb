{
 "cells": [
  {
   "cell_type": "code",
   "execution_count": 4,
   "metadata": {},
   "outputs": [],
   "source": [
    "import netket as nk\n",
    "from deepnets.callbacks import SaveVariationalState\n",
    "import nqxpack"
   ]
  },
  {
   "cell_type": "code",
   "execution_count": 2,
   "metadata": {},
   "outputs": [
    {
     "name": "stderr",
     "output_type": "stream",
     "text": [
      "/Users/rajah.nutakki/repos/convnext_nnqs/.venv/lib/python3.12/site-packages/netket/vqs/mc/mc_state/state.py:318: UserWarning: n_samples=100 (100 per device/MPI rank) does not divide n_chains=16, increased to 112 (112 per device/MPI rank)\n",
      "  self.n_samples = n_samples\n",
      "100%|██████████| 10/10 [00:00<00:00, 213.05it/s, Energy=-12.21 ± 0.15 [σ²=2.59, R̂=1.2153]]"
     ]
    },
    {
     "name": "stdout",
     "output_type": "stream",
     "text": [
      "Package 'builtins' is not installed, so you may not be able to reload this.\n"
     ]
    },
    {
     "name": "stderr",
     "output_type": "stream",
     "text": [
      "\n"
     ]
    },
    {
     "data": {
      "text/plain": [
       "()"
      ]
     },
     "execution_count": 2,
     "metadata": {},
     "output_type": "execute_result"
    }
   ],
   "source": [
    "hilbert = nk.hilbert.Spin(s=0.5, N=10)\n",
    "graph = nk.graph.Hypercube(length=10, n_dim=1, pbc=True)\n",
    "hamiltonian = nk.operator.Ising(hilbert=hilbert, graph=graph, h=1.0)\n",
    "net = nk.models.RBM(alpha=1)\n",
    "sampler = nk.sampler.MetropolisExchange(hilbert=hilbert, graph=graph, d_max=1)\n",
    "vstate = nk.vqs.MCState(sampler, net, n_samples=100)\n",
    "optimizer = nk.optimizer.Sgd(learning_rate=0.1)\n",
    "callback = SaveVariationalState(1,file_prefix=\"test\")\n",
    "gs = nk.VMC(hamiltonian = hamiltonian, optimizer=optimizer, variational_state=vstate)\n",
    "gs.run(10,callback=callback)"
   ]
  },
  {
   "cell_type": "code",
   "execution_count": 8,
   "metadata": {},
   "outputs": [],
   "source": [
    "vstate_load = nqxpack.load(\"testvstate2.nk\")"
   ]
  },
  {
   "cell_type": "code",
   "execution_count": 14,
   "metadata": {},
   "outputs": [],
   "source": [
    "import netket.experimental as nke"
   ]
  },
  {
   "cell_type": "code",
   "execution_count": null,
   "metadata": {},
   "outputs": [],
   "source": []
  }
 ],
 "metadata": {
  "kernelspec": {
   "display_name": ".venv",
   "language": "python",
   "name": "python3"
  },
  "language_info": {
   "codemirror_mode": {
    "name": "ipython",
    "version": 3
   },
   "file_extension": ".py",
   "mimetype": "text/x-python",
   "name": "python",
   "nbconvert_exporter": "python",
   "pygments_lexer": "ipython3",
   "version": "3.12.8"
  }
 },
 "nbformat": 4,
 "nbformat_minor": 2
}
